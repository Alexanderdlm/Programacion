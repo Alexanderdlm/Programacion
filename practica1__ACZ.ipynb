{
  "nbformat": 4,
  "nbformat_minor": 0,
  "metadata": {
    "colab": {
      "provenance": [],
      "authorship_tag": "ABX9TyPLWCnketQeJifxcxT1pgJ3",
      "include_colab_link": true
    },
    "kernelspec": {
      "name": "python3",
      "display_name": "Python 3"
    },
    "language_info": {
      "name": "python"
    }
  },
  "cells": [
    {
      "cell_type": "markdown",
      "metadata": {
        "id": "view-in-github",
        "colab_type": "text"
      },
      "source": [
        "<a href=\"https://colab.research.google.com/github/Alexanderdlm/Programacion/blob/main/practica1__ACZ.ipynb\" target=\"_parent\"><img src=\"https://colab.research.google.com/assets/colab-badge.svg\" alt=\"Open In Colab\"/></a>"
      ]
    },
    {
      "cell_type": "code",
      "execution_count": null,
      "metadata": {
        "colab": {
          "base_uri": "https://localhost:8080/"
        },
        "id": "DOMHJ5NHrh-J",
        "outputId": "6dbbea99-8a7b-440b-e25c-b34ba1df20c8"
      },
      "outputs": [
        {
          "output_type": "stream",
          "name": "stdout",
          "text": [
            "Ingrese su nombre:Alexander\n",
            "Hola,Alexander.¡Bienvenido a Plantel Cecytem Coacalco!\n",
            "Ingrese su edad: 20\n",
            "En 10 años, tendrias 30 años\n"
          ]
        }
      ],
      "source": [
        "#Solicita al usuario ingresar su nombre\n",
        "nombre = input(\"Ingrese su nombre:\")\n",
        "\n",
        "#Imprime un mensaje utilizando una variable\n",
        "print(\"Hola,\"+ nombre + \".¡Bienvenido a Plantel Cecytem Coacalco!\")\n",
        "\n",
        "#Uso de variables de calculo simple\n",
        "edad = int(input(\"Ingrese su edad: \"))\n",
        "edad_futura = edad + 10\n",
        "\n",
        "#Imprime el resultado\n",
        "print(\"En 10 años, tendrias\", edad_futura, \"años\")"
      ]
    },
    {
      "cell_type": "code",
      "source": [
        "#Definicion de variables\n",
        "nombre = \"Alexander Carmona\"\n",
        "edad = 16\n",
        "estatura = 1.70\n",
        "\n",
        "#Imprime informacion utilizando las variables\n",
        "print(\"Nombre: \", nombre)\n",
        "print(\"Edad:\", edad , \"años\")\n",
        "print(\"Estatura:\", estatura , \"metros\")\n",
        "\n",
        "#Realiza opreaciones matematicas\n",
        "suma= edad + estatura\n",
        "resta = edad - estatura\n",
        "multiplicacion = edad * estatura\n",
        "division = edad / estatura\n",
        "\n",
        "#Imprime los resultados de las operaciones\n",
        "print(\"Suma de su Edad y Estatura:\" , suma)\n",
        "print(\"Resta de su Edad y Estatura:\", resta)\n",
        "print(\"Multiplicacion de su Edad y Estatura:\", multiplicacion)\n",
        "print(\"Division de su Edad y Estatura:\", division)"
      ],
      "metadata": {
        "colab": {
          "base_uri": "https://localhost:8080/"
        },
        "id": "bmbG9ivFsf_8",
        "outputId": "bbcd7e72-3758-46c3-ec61-fd0c012a4576"
      },
      "execution_count": null,
      "outputs": [
        {
          "output_type": "stream",
          "name": "stdout",
          "text": [
            "Nombre:  Alexander Carmona\n",
            "Edad: 16 años\n",
            "Estatura: 1.7 metros\n",
            "Suma de su Edad y Estatura: 17.7\n",
            "Resta de su Edad y Estatura: 14.3\n",
            "Multiplicacion de su Edad y Estatura: 27.2\n",
            "Division de su Edad y Estatura: 9.411764705882353\n"
          ]
        }
      ]
    },
    {
      "cell_type": "code",
      "source": [
        "#Uso de variables para almacenar informacion\n",
        "pais = \"China\"\n",
        "capital = \"Pekin\"\n",
        "poblacion = \"21.54 millones\"\n",
        "\n",
        "#Imprimte informacion utulizando las variables\n",
        "print(\"Pais\", pais)\n",
        "print(\"Capital:\",capital)\n",
        "print(\"Poblacion Total:\",poblacion)\n",
        "\n",
        "#Solicita al usuario ingresar un numero\n",
        "numero = float(input(\"Ingresa un numero en decimal:\"))\n",
        "\n",
        "#Realiza la operacion de un numero ingresado\n",
        "r = numero * 3\n",
        "\n",
        "#Imprime el resultado\n",
        "print(\"El triple del numero que ingreso es:\",r)"
      ],
      "metadata": {
        "colab": {
          "base_uri": "https://localhost:8080/"
        },
        "id": "QgNZpKhWuBfk",
        "outputId": "27ba8f65-5535-456d-94d4-894d3470df05"
      },
      "execution_count": null,
      "outputs": [
        {
          "output_type": "stream",
          "name": "stdout",
          "text": [
            "Pais China\n",
            "Capital: Pekin\n",
            "Poblacion Total: 21.54 millones\n",
            "Ingresa un numero en decimal:22.5\n",
            "El triple del numero que ingreso es: 67.5\n"
          ]
        }
      ]
    }
  ]
}